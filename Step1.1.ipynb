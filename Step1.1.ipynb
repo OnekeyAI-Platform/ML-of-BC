{
 "cells": [
  {
   "cell_type": "code",
   "execution_count": null,
   "id": "7050436a",
   "metadata": {},
   "outputs": [],
   "source": [
    "import os\n",
    "from onekey_algo.classification.run_classification import main as clf_main\n",
    "from collections import namedtuple\n",
    "\n",
    "root = r'E:\\20230904-LiuHui'\n",
    "task = 'Task1'\n",
    "for model_name in ['resnet50', 'inception_v3', 'densenet121']:\n",
    "    train_f = os.path.join(root, task, 'split_info', f'train-RND-0.txt')\n",
    "    val_f = os.path.join(root, task, 'split_info', f'val-RND-0.txt')\n",
    "    labels_f = os.path.join(root, task, 'split_info', 'labels.txt')\n",
    "    data_pattern = r''\n",
    "\n",
    "    params = dict(train=train_f,\n",
    "                  valid=val_f,\n",
    "                  labels_file=labels_f,\n",
    "                  data_pattern=data_pattern,\n",
    "                  j=6,\n",
    "                  max2use=None,\n",
    "                  val_max2use=None,\n",
    "                  batch_balance=False,\n",
    "                  normalize_method='imagenet',\n",
    "                  model_name=model_name,\n",
    "                  gpus=[0],\n",
    "                  batch_size=128,\n",
    "                  epochs=15,\n",
    "                  init_lr=0.01,\n",
    "                  optimizer='sgd',\n",
    "                  retrain=r'',\n",
    "                  model_root=os.path.join(root, task, 'models_sup'),\n",
    "                  iters_start=0,\n",
    "                  iters_verbose=256,\n",
    "                  save_per_epoch=True,\n",
    "                  add_date=False,\n",
    "                  pretrained=True)\n",
    "    Args = namedtuple(\"Args\", params)\n",
    "    clf_main(Args(**params))"
   ]
  },
  {
   "cell_type": "code",
   "execution_count": null,
   "id": "d9984a34",
   "metadata": {},
   "outputs": [],
   "source": []
  }
 ],
 "metadata": {
  "kernelspec": {
   "display_name": "Python 3 (ipykernel)",
   "language": "python",
   "name": "python3"
  },
  "language_info": {
   "codemirror_mode": {
    "name": "ipython",
    "version": 3
   },
   "file_extension": ".py",
   "mimetype": "text/x-python",
   "name": "python",
   "nbconvert_exporter": "python",
   "pygments_lexer": "ipython3",
   "version": "3.7.12"
  }
 },
 "nbformat": 4,
 "nbformat_minor": 5
}
