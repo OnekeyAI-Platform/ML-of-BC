{
 "cells": [
  {
   "cell_type": "code",
   "execution_count": null,
   "id": "58a846b4",
   "metadata": {
    "scrolled": false
   },
   "outputs": [],
   "source": [
    "import pandas as pd\n",
    "import os\n",
    "from onekey_algo.custom.components.ugly import drop_error\n",
    "import numpy as np\n",
    "from onekey_algo.custom.components import metrics\n",
    "from onekey_algo.custom.components.comp1 import draw_roc\n",
    "import matplotlib.pyplot as plt\n",
    "from onekey_algo import get_param_in_cwd\n",
    "\n",
    "os.makedirs('img', exist_ok=True)\n",
    "metric_results = []\n",
    "dtl = []\n",
    "\n",
    "model_root = get_param_in_cwd('model_root_sup')\n",
    "for model in os.listdir(model_root):\n",
    "    train_log_path = os.path.join(model_root, rf'{model}/viz/BST_TRAIN_RESULTS.txt')\n",
    "#     train_log_path = rf'D:\\20230713-BiQiu\\Pathology\\models/{model}/train/Epoch-1.txt'\n",
    "    train_log = pd.read_csv(train_log_path, names=['fname', 'pred_score', 'pred_label', 'gt'], sep='\\t')\n",
    "    train_log['group'] = 'train'\n",
    "    val_log_path = os.path.join(model_root, rf'{model}/viz/BST_VAL_RESULTS.txt')\n",
    "#     val_log_path = rf'D:\\20230713-BiQiu\\Pathology\\models/{model}/valid/Epoch-1.txt'\n",
    "    val_log = pd.read_csv(val_log_path, names=['fname', 'pred_score', 'pred_label', 'gt'], sep='\\t')\n",
    "    val_log['group'] = 'test'\n",
    "    log = pd.concat([train_log, val_log], axis=0)\n",
    "    \n",
    "    all_pred = []\n",
    "    all_gt = []\n",
    "#     log = pd.merge(log, data, left_on='fname', right_on='fpath', how='inner')\n",
    "    for subset in ['train', 'test']:\n",
    "        val_log = log[log['group'] == subset]\n",
    "        # ----\n",
    "#         if subset in ['val', 'test1', 'test2']:\n",
    "#             sel_idx, = drop_error([val_log['pred_label']], [val_log['gt']], [val_log['pred_score']], ratio=ra[subset])\n",
    "#             print(model, subset, val_log.shape, val_log[sel_idx].shape)\n",
    "#             val_log = val_log[sel_idx]\n",
    "#         # ----\n",
    "#         display(val_log)\n",
    "        ul_labels = np.unique(val_log['pred_label'])\n",
    "        pred_score = list(map(lambda x: x[0] if x[1] == 1 else 1-x[0], np.array(val_log[['pred_score', 'pred_label']])))\n",
    "        gt = [1 if gt_ == 1 else 0 for gt_ in np.array(val_log['gt'])]\n",
    "#         print(len(pred_score))\n",
    "        acc, auc, ci, tpr, tnr, ppv, npv, precision, recall, f1, thres = metrics.analysis_pred_binary(gt, pred_score, use_youden=False)\n",
    "        ci = f\"{ci[0]:.4f}-{ci[1]:.4f}\"\n",
    "        metric_results.append([model, acc, auc, ci, tpr, tnr, ppv, npv, precision, recall, f1, thres, subset])\n",
    "        \n",
    "        all_pred.append(np.array(list(map(lambda x: (1-x[0], x[0]) if x[1] == 1 else (x[0], 1-x[0]), \n",
    "                                          np.array(val_log[['pred_score', 'pred_label']])))))\n",
    "        all_gt.append(gt)\n",
    "        \n",
    "    draw_roc(all_gt, all_pred, labels=['Train', 'Test'], title=f\"Model: {model}\")\n",
    "    plt.savefig(f'img/DLSup_model_{model}_roc.svg', bbox_inches = 'tight')\n",
    "    plt.show()\n",
    "metrics = pd.DataFrame(metric_results, \n",
    "             columns=['ModelName', 'Acc', 'AUC', '95% CI', 'Sensitivity', 'Specificity', 'PPV', 'NPV', \n",
    "                      'Precision', 'Recall', 'F1', 'Threshold', 'Cohort'])\n",
    "metrics"
   ]
  },
  {
   "cell_type": "code",
   "execution_count": null,
   "id": "bd570d06",
   "metadata": {},
   "outputs": [],
   "source": []
  }
 ],
 "metadata": {
  "kernelspec": {
   "display_name": "Python 3 (ipykernel)",
   "language": "python",
   "name": "python3"
  },
  "language_info": {
   "codemirror_mode": {
    "name": "ipython",
    "version": 3
   },
   "file_extension": ".py",
   "mimetype": "text/x-python",
   "name": "python",
   "nbconvert_exporter": "python",
   "pygments_lexer": "ipython3",
   "version": "3.7.12"
  }
 },
 "nbformat": 4,
 "nbformat_minor": 5
}
