{
 "cells": [
  {
   "cell_type": "code",
   "execution_count": 2,
   "id": "03452a8b",
   "metadata": {},
   "outputs": [
    {
     "name": "stdout",
     "output_type": "stream",
     "text": [
      "F:\\20230904-LiuHui\\error\\14-46174B1 6622\n",
      "F:\\20230904-LiuHui\\error\\14-46927A1 7221\n",
      "F:\\20230904-LiuHui\\error\\14-47278A5 6319\n",
      "F:\\20230904-LiuHui\\error\\14-47869A4 4977\n",
      "F:\\20230904-LiuHui\\error\\14-48047A6 7802\n",
      "F:\\20230904-LiuHui\\error\\14-4822B4 6525\n",
      "F:\\20230904-LiuHui\\error\\14-49166B1 7526\n",
      "F:\\20230904-LiuHui\\error\\14-49281A1 9010\n",
      "F:\\20230904-LiuHui\\error\\14-49849A1 6278\n",
      "F:\\20230904-LiuHui\\error\\14-49850A2 7546\n"
     ]
    }
   ],
   "source": [
    "import os\n",
    "import json\n",
    "import shutil\n",
    "from pathlib import Path\n",
    "from onekey_algo.classification.eval_classification import init as clf_init\n",
    "from onekey_algo.classification.eval_classification import inference_dataloader as clf_inference\n",
    "\n",
    "POSSIBLE_IMG = ['.jpg']\n",
    "\n",
    "my_dir = Path(r'F:\\20230904-LiuHui\\error')\n",
    "samples = []\n",
    "\n",
    "config_path = r'F:\\20230802-OnekeyWhite\\models\\resnet50\\viz'\n",
    "save_dir = os.path.join(my_dir, '../drop_patches/')\n",
    "model, transformer, labels, device = clf_init(config_path=config_path)\n",
    "for root, _, files in os.walk(my_dir):\n",
    "    rel2 = Path(root).relative_to(my_dir)\n",
    "    save2 = os.path.join(save_dir, rel2)\n",
    "    if os.path.exists(save2):\n",
    "        continue\n",
    "    samples = [os.path.join(root, f) for f in files if os.path.splitext(f)[-1] in POSSIBLE_IMG]\n",
    "    print(root, len(samples))\n",
    "    results = clf_inference(samples, model, transformer, labels, device, batch_size=1, num_workers=1)\n",
    "    os.makedirs(save2, exist_ok=True)\n",
    "    for fname, prob, label in results:\n",
    "        if label == 'background':\n",
    "            shutil.move(fname, save2)"
   ]
  },
  {
   "cell_type": "code",
   "execution_count": 1,
   "id": "266ce59b",
   "metadata": {
    "scrolled": true
   },
   "outputs": [
    {
     "data": {
      "text/plain": [
       "{'14-46174B1',\n",
       " '14-46927A1',\n",
       " '14-47278A5',\n",
       " '14-47869A4',\n",
       " '14-48047A6',\n",
       " '14-4822B4',\n",
       " '14-49166B1',\n",
       " '14-49281A1',\n",
       " '14-49849A1',\n",
       " '14-49850A2'}"
      ]
     },
     "execution_count": 1,
     "metadata": {},
     "output_type": "execute_result"
    }
   ],
   "source": [
    "import os\n",
    "\n",
    "set([f.split('.')[0] for f in os.listdir(r'E:\\20230904-LiuHui\\svs')]) - set(os.listdir(r'F:/20230904-LiuHui/drop_patches/'))"
   ]
  },
  {
   "cell_type": "code",
   "execution_count": 8,
   "id": "6eb41173",
   "metadata": {},
   "outputs": [],
   "source": [
    "import json\n",
    "os.makedirs(os.path.join(save_dir, 'viz'), exist_ok=True)\n",
    "with open(os.path.join(save_dir, 'viz', f\"{task}_prediction.txt\"), 'w') as f:\n",
    "    for fname, prob, label in results:\n",
    "        print(f\"{fname}\\t{eval(prob)[label]}\\t{label}\\t{1}\", file=f)"
   ]
  },
  {
   "cell_type": "code",
   "execution_count": null,
   "id": "8c46eaf7",
   "metadata": {},
   "outputs": [],
   "source": []
  }
 ],
 "metadata": {
  "kernelspec": {
   "display_name": "Python 3 (ipykernel)",
   "language": "python",
   "name": "python3"
  },
  "language_info": {
   "codemirror_mode": {
    "name": "ipython",
    "version": 3
   },
   "file_extension": ".py",
   "mimetype": "text/x-python",
   "name": "python",
   "nbconvert_exporter": "python",
   "pygments_lexer": "ipython3",
   "version": "3.7.12"
  }
 },
 "nbformat": 4,
 "nbformat_minor": 5
}
